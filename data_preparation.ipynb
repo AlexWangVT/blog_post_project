{
 "cells": [
  {
   "cell_type": "code",
   "execution_count": 2,
   "metadata": {},
   "outputs": [],
   "source": [
    "import numpy as np\n",
    "import pandas as pd\n",
    "import matplotlib.pyplot as plt\n",
    "import seaborn as sns\n",
    "from sklearn.linear_model import LinearRegression\n",
    "from sklearn.model_selection import train_test_split\n",
    "from sklearn.metrics import r2_score, mean_absolute_error"
   ]
  },
  {
   "cell_type": "code",
   "execution_count": 47,
   "metadata": {},
   "outputs": [
    {
     "data": {
      "text/plain": [
       "51392"
      ]
     },
     "execution_count": 47,
     "metadata": {},
     "output_type": "execute_result"
    }
   ],
   "source": [
    "# Read raw data\n",
    "\n",
    "df = pd.read_csv('./dataset/stackoverflow_data/survey_results_public.csv')\n",
    "df.shape[0]"
   ]
  },
  {
   "cell_type": "code",
   "execution_count": 46,
   "metadata": {},
   "outputs": [
    {
     "data": {
      "text/plain": [
       "Professional           0.000000\n",
       "Country                0.000000\n",
       "FormalEducation        0.000000\n",
       "YearsProgram           0.004806\n",
       "MajorUndergrad         0.166388\n",
       "YearsCodedJob          0.204351\n",
       "CareerSatisfaction     0.169229\n",
       "UnderstandComputers    0.395879\n",
       "Salary                 0.749163\n",
       "ExpectedSalary         0.950070\n",
       "dtype: float64"
      ]
     },
     "execution_count": 46,
     "metadata": {},
     "output_type": "execute_result"
    }
   ],
   "source": [
    "# The columns to be used\n",
    "working_df = df[['Professional', 'Country', 'FormalEducation', 'YearsProgram', 'MajorUndergrad', 'YearsCodedJob', 'CareerSatisfaction', 'UnderstandComputers', 'Salary', 'ExpectedSalary']]\n",
    "working_df.shape\n",
    "# Missing values check\n",
    "working_df.isnull().sum() / working_df.shape[0]"
   ]
  },
  {
   "cell_type": "code",
   "execution_count": null,
   "metadata": {},
   "outputs": [],
   "source": []
  }
 ],
 "metadata": {
  "interpreter": {
   "hash": "8d1ef3b3d21a8f5d62fec297b2de45fe0670853a5f20151ae07585d912ea79d8"
  },
  "kernelspec": {
   "display_name": "Python 3.9.12 ('.venv': venv)",
   "language": "python",
   "name": "python3"
  },
  "language_info": {
   "codemirror_mode": {
    "name": "ipython",
    "version": 3
   },
   "file_extension": ".py",
   "mimetype": "text/x-python",
   "name": "python",
   "nbconvert_exporter": "python",
   "pygments_lexer": "ipython3",
   "version": "3.9.12"
  },
  "orig_nbformat": 4
 },
 "nbformat": 4,
 "nbformat_minor": 2
}
