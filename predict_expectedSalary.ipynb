{
 "cells": [
  {
   "cell_type": "code",
   "execution_count": null,
   "metadata": {},
   "outputs": [],
   "source": [
    "working_df = df[['FormalEducation', 'YearsProgram', 'MajorUndergrad', 'YearsCodedJob', 'CareerSatisfaction', 'UnderstandComputers', 'Salary', 'ExpectedSalary']]"
   ]
  }
 ],
 "metadata": {
  "language_info": {
   "name": "python"
  },
  "orig_nbformat": 4
 },
 "nbformat": 4,
 "nbformat_minor": 2
}
