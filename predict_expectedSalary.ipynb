{
 "cells": [
  {
   "cell_type": "code",
   "execution_count": 105,
   "metadata": {},
   "outputs": [],
   "source": [
    "import numpy as np\n",
    "import pandas as pd\n",
    "import matplotlib.pyplot as plt\n",
    "from sklearn.linear_model import LinearRegression\n",
    "from sklearn.model_selection import train_test_split\n",
    "from sklearn.metrics import r2_score\n",
    "\n",
    "%matplotlib inline"
   ]
  },
  {
   "cell_type": "code",
   "execution_count": 106,
   "metadata": {},
   "outputs": [],
   "source": [
    "# convert categorical variables to dummy variables and concatenate with the dataframe\n",
    "def create_dummy_var(df, cat_cols_lst, dummy_na):\n",
    "\n",
    "    for col in cat_cols_lst:\n",
    "        try:\n",
    "            # for each cat add dummy variable and drop original column and then concatenate\n",
    "            df = pd.concat([df.drop(col, axis=1), pd.get_dummies(df[col], prefix=col, prefix_sep='_', dummy_na=dummy_na)], axis = 1)\n",
    "        except:\n",
    "            continue\n",
    "    return df"
   ]
  },
  {
   "cell_type": "code",
   "execution_count": 107,
   "metadata": {},
   "outputs": [],
   "source": [
    "# A linear model to estimate expected salary after graduation. \n",
    "def pred_model(df, response_col, cat_cols, dummy_na, test_size=.2, rand_state=32):\n",
    "\n",
    "    # Split dataframe into train and test\n",
    "    X = df.drop(response_col, axis=1)\n",
    "    y = df[response_col]\n",
    "    X_train, X_test,y_train, y_test = train_test_split(X, y, test_size=test_size, random_state=rand_state)\n",
    "    \n",
    "    # linear model\n",
    "    lm = LinearRegression()\n",
    "    lm.fit(X_train, y_train)\n",
    "\n",
    "    y_test_pred = lm.predict(X_test)\n",
    "    y_train_pred = lm.predict(X_train)\n",
    "\n",
    "    # model metrics: r-square\n",
    "    test_r2 = r2_score(y_test, y_test_pred)\n",
    "    train_r2 = r2_score(y_train, y_train_pred)\n",
    "\n",
    "    return test_r2, train_r2, lm\n"
   ]
  },
  {
   "cell_type": "code",
   "execution_count": 110,
   "metadata": {},
   "outputs": [],
   "source": [
    "def main():\n",
    "    df = pd.read_csv('./dataset/stackoverflow_data/survey_results_public.csv')\n",
    "    working_df = df[['University', 'YearsCodedJob', 'YearsProgram', 'MajorUndergrad', 'YearsCodedJob', 'YearsCodedJobPast', 'Salary', 'ExpectedSalary']]  \n",
    "    drop_sal_df = working_df.dropna(subset=['ExpectedSalary'], axis = 0) # drop rows with NaN response variable\n",
    "    drop_sal_df = drop_sal_df.dropna(how = 'all', axis=1) # drop columns with all NaNs\n",
    "    cat_df = drop_sal_df.select_dtypes(include=['object'])\n",
    "    cat_cols_lst = cat_df.columns\n",
    "    df_new = create_dummy_var(drop_sal_df, cat_cols_lst, dummy_na=False) \n",
    "    test_r2, train_r2, lm = pred_model(df_new, 'ExpectedSalary', cat_cols_lst, dummy_na=False)\n",
    "    print(\"The rsquared on the training data was {}.  The rsquared on the test data was {}.\".format(train_r2, test_r2))\n",
    "    print(\"The model has underfitting problem\")"
   ]
  },
  {
   "cell_type": "code",
   "execution_count": 111,
   "metadata": {},
   "outputs": [
    {
     "name": "stdout",
     "output_type": "stream",
     "text": [
      "The rsquared on the training data was 0.047292496746298096.  The rsquared on the test data was 0.005812837468330723.\n",
      "The model has underfitting problem\n"
     ]
    }
   ],
   "source": [
    "if __name__ == \"__main__\":\n",
    "    main()"
   ]
  },
  {
   "cell_type": "code",
   "execution_count": null,
   "metadata": {},
   "outputs": [],
   "source": []
  }
 ],
 "metadata": {
  "interpreter": {
   "hash": "8d1ef3b3d21a8f5d62fec297b2de45fe0670853a5f20151ae07585d912ea79d8"
  },
  "kernelspec": {
   "display_name": "Python 3.9.12 ('.venv': venv)",
   "language": "python",
   "name": "python3"
  },
  "language_info": {
   "codemirror_mode": {
    "name": "ipython",
    "version": 3
   },
   "file_extension": ".py",
   "mimetype": "text/x-python",
   "name": "python",
   "nbconvert_exporter": "python",
   "pygments_lexer": "ipython3",
   "version": "3.9.12"
  },
  "orig_nbformat": 4
 },
 "nbformat": 4,
 "nbformat_minor": 2
}
